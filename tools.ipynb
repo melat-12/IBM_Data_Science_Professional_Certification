{
  "nbformat": 4,
  "nbformat_minor": 0,
  "metadata": {
    "colab": {
      "provenance": [],
      "toc_visible": true
    },
    "kernelspec": {
      "name": "python3",
      "display_name": "Python 3"
    },
    "language_info": {
      "name": "python"
    }
  },
  "cells": [
    {
      "cell_type": "markdown",
      "source": [
        "# **My Jupyter Notebook on IBM Watson Studio**\n",
        "My name  is melt weldegebriel iam Software Developer\n",
        ".I am interested in data science because I love to work with data\n"
      ],
      "metadata": {
        "id": "uqReBPqtHJIu"
      }
    },
    {
      "cell_type": "markdown",
      "source": [
        "**list data science languages.**\n",
        "*   R\n",
        "*   SQL\n",
        "*   Julia\n",
        "*    Python\n",
        "\n",
        "\n",
        "\n",
        "\n",
        "\n",
        "\n",
        "\n"
      ],
      "metadata": {
        "id": "cXxO0r8cIP2P"
      }
    },
    {
      "cell_type": "markdown",
      "source": [
        "**Popular Data Science Libraries**\n",
        "*  NumPy\n",
        "*  Pandas\n",
        "*  Matplotlib\n",
        "*  Scikit-learn\n",
        "*  Seaborn\n",
        "*  TensorFlow\n",
        "*  PyTorch\n",
        "\n",
        "\n",
        "\n",
        "\n",
        "\n",
        "\n",
        "\n",
        "\n"
      ],
      "metadata": {
        "id": "qljbbEduI9RB"
      }
    },
    {
      "cell_type": "markdown",
      "source": [
        "# Table of Data Science tools\n",
        "\n",
        "\n",
        "| Tool                                  | Description                                                                                      |\n",
        "    |---------------------------------------|--------------------------------------------------------------------------------------------------|\n",
        "    | Jupyter Notebooks / JupyterLab        | Popular open-source web application for creating and sharing documents that contain live code. |\n",
        "    | RStudio                               | An integrated development environment for R that makes it easier to write code.                 |\n",
        "    | Tableau                               | A data visualization tool that connects to various data sources and creates interactive charts. |\n",
        "    | SPSS                                  | A software package used specifically to analyze data related to social sciences.               |\n",
        "    | Power BI                              | A business analytics service provided by Microsoft that provides interactive visualizations.   |"
      ],
      "metadata": {
        "id": "JYkEC7yFKUp2"
      }
    },
    {
      "cell_type": "markdown",
      "source": [
        "Arithmetic expressions are mathematical statements that involve various operations such as addition, subtraction, multiplication, and division. They are fundamental to many areas of mathematics and are used heavily in data science. Here are some examples of arithmetic expressions:\n",
        "\n",
        "1. `2 + 3`: This expression adds the numbers 2 and 3 together, resulting in a value of 5.\n",
        "2. `4 - 1`: This expression subtracts the number 1 from the number 4, resulting in a value of 3.\n",
        "3. `5 * 2`: This expression multiplies the numbers 5 and 2 together, resulting in a value of 10.\n",
        "4. `8 / 4`: This expression divides the number 8 by the number 4, resulting in a value of 2.\n",
        "\n",
        "To perform arithmetic expressions in code, programming languages like Python, R, and SQL have built-in operators that allow you to manipulate numerical data. Additionally, many libraries for machine learning and data analysis offer even more advanced functionality for handling and manipulating mathematical expressions"
      ],
      "metadata": {
        "id": "wvLKbBjUMpIt"
      }
    },
    {
      "cell_type": "code",
      "source": [
        "a = 7\n",
        "b = 3\n",
        "\n",
        "# Multiplication\n",
        "c = a * b\n",
        "print(\"The product of \" + str(a) + \" and \" + str(b) + \" is \" + str(c))\n",
        "\n",
        "# Addition\n",
        "d = a + b\n",
        "print(\"The sum of \" + str(a) + \" and \" + str(b) + \" is \" + str(d))"
      ],
      "metadata": {
        "colab": {
          "base_uri": "https://localhost:8080/"
        },
        "id": "UGnLZdkQM1a1",
        "outputId": "fc6f0429-12e2-4428-fb76-ec2e08d2b787"
      },
      "execution_count": 3,
      "outputs": [
        {
          "output_type": "stream",
          "name": "stdout",
          "text": [
            "The product of 7 and 3 is 21\n",
            "The sum of 7 and 3 is 10\n"
          ]
        }
      ]
    },
    {
      "cell_type": "code",
      "source": [
        "minutes = 150\n",
        "\n",
        "# Conversion factor\n",
        "factor = 1/60\n",
        "\n",
        "# Compute hours\n",
        "hours = minutes * factor\n",
        "\n",
        "print(str(minutes) + \" minutes is equal to \" + str(hours) + \" hours.\")"
      ],
      "metadata": {
        "colab": {
          "base_uri": "https://localhost:8080/"
        },
        "id": "VK2U5y0NTZxe",
        "outputId": "faeb9ed0-1b1b-4425-88ce-8c6968cb0d85"
      },
      "execution_count": 4,
      "outputs": [
        {
          "output_type": "stream",
          "name": "stdout",
          "text": [
            "150 minutes is equal to 2.5 hours.\n"
          ]
        }
      ]
    },
    {
      "cell_type": "markdown",
      "source": [
        "# **list Objectives**\n",
        "- To implement a data analysis project using Python and relevant libraries.\n",
        "- To explore and gain experience with common data analysis techniques such as data cleaning, manipulation, visualization, and modeling.\n",
        "- To analyze a real-world dataset and draw actionable insights from it.\n",
        "- To practice effective communication skills by presenting findings through written reports and visualizations.\n",
        "- To develop a proficiency in using Jupyter Notebooks as an interactive development environment for data science projects.\n"
      ],
      "metadata": {
        "id": "F-trB6MtVDs6"
      }
    },
    {
      "cell_type": "markdown",
      "source": [
        "\n",
        "\n",
        "*   My Portfolio :https://github.com/melat-12/\n",
        "*   email:melatwegebriel12@gmail.com\n",
        "\n"
      ],
      "metadata": {
        "id": "6TrX3ojpUf0K"
      }
    }
  ]
}